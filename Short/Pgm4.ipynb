{
 "cells": [
  {
   "cell_type": "code",
   "execution_count": 1,
   "metadata": {},
   "outputs": [],
   "source": [
    "from AIML_ACHARYA_SAHIL.ID3 import program\n",
    "import pandas as pd"
   ]
  },
  {
   "cell_type": "code",
   "execution_count": 4,
   "metadata": {},
   "outputs": [],
   "source": [
    "def construct_tree(obj,dataset, tree):\n",
    "    target = dataset.iloc[:, -1]\n",
    "    impure_childs = []\n",
    "    attribute_index = obj.greatest_information_gain(dataset)\n",
    "    childs = obj.generate_childs(dataset, attribute_index)\n",
    "    tree[dataset.columns[attribute_index]] = childs\n",
    "    targets = list(set(dataset.iloc[:, -1]))\n",
    "    for k, v in childs.items():\n",
    "        if v[0] == 0:\n",
    "            tree[k] = targets[1]\n",
    "        elif v[1] == 0:\n",
    "            tree[k] = targets[0]\n",
    "        elif v[0] != 0 or v[1] != 0:\n",
    "            impure_childs.append(k)\n",
    "    for i in impure_childs:\n",
    "        sub = obj.modify_data_set(dataset,attribute_index,\n",
    "        dataset.columns[attribute_index], i)\n",
    "        tree = construct_tree(obj,sub, tree)\n",
    "    return tree\n"
   ]
  },
  {
   "cell_type": "code",
   "execution_count": 5,
   "metadata": {},
   "outputs": [
    {
     "name": "stdout",
     "output_type": "stream",
     "text": [
      "Outlook  =>  {'Sunny': (3, 2), 'Overcast': (0, 4), 'Rain': (2, 3)}\n",
      "Overcast  =>  Yes\n",
      "Temperature  =>  {'Mild': (1, 2), 'Cool': (1, 1)}\n",
      "Hot  =>  No\n",
      "Cool  =>  Yes\n",
      "Humidity  =>  {'Normal': (1, 1)}\n",
      "High  =>  No\n",
      "Normal  =>  Yes\n",
      "Wind  =>  {'Weak': (0, 1), 'Strong': (1, 0)}\n",
      "Weak  =>  Yes\n",
      "Strong  =>  No\n"
     ]
    }
   ],
   "source": [
    "obj=program()\n",
    "data=pd.read_csv(r\"/Users/sahil/Documents/PROGRAMS/Python/AIML/Data/playtennis.csv\")\n",
    "tree=dict()\n",
    "result=construct_tree(obj,data,tree)\n",
    "for key, value in result.items():\n",
    "    print(key, \" => \", value)\n"
   ]
  }
 ],
 "metadata": {
  "kernelspec": {
   "display_name": "env",
   "language": "python",
   "name": "python3"
  },
  "language_info": {
   "codemirror_mode": {
    "name": "ipython",
    "version": 3
   },
   "file_extension": ".py",
   "mimetype": "text/x-python",
   "name": "python",
   "nbconvert_exporter": "python",
   "pygments_lexer": "ipython3",
   "version": "3.9.6"
  },
  "orig_nbformat": 4,
  "vscode": {
   "interpreter": {
    "hash": "550ed2dbc59292519cf5eb324a1382c4b137e9eca0def94d6a3feceb6ff9fd66"
   }
  }
 },
 "nbformat": 4,
 "nbformat_minor": 2
}
