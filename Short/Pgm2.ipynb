{
 "cells": [
  {
   "cell_type": "code",
   "execution_count": 19,
   "metadata": {},
   "outputs": [],
   "source": [
    "from AIML_ACHARYA_SAHIL.AOStar import program"
   ]
  },
  {
   "cell_type": "code",
   "execution_count": 20,
   "metadata": {},
   "outputs": [],
   "source": [
    "def aoStar(obj, v, backTracking):\n",
    "        print(\"HEURISTIC VALUES :\", obj.H)\n",
    "        print(\"SOLUTION GRAPH :\", obj.solutionGraph)\n",
    "        print(\"PROCESSING NODE :\", v)\n",
    "        print(\"-----------------------------------------------------------------------------------------\")\n",
    "        if obj.getStatus(v) >= 0: \n",
    "            minimumCost, childNodeList = obj.computeMinimumCostChildNodes(v)\n",
    "            obj.setHeuristicNodeValue(v, minimumCost)\n",
    "            obj.setStatus(v,len(childNodeList))\n",
    "            solved=True\n",
    "            for childNode in childNodeList:\n",
    "                obj.parent[childNode]=v\n",
    "                if obj.getStatus(childNode)!=-1:\n",
    "                    solved=solved & False\n",
    "            if solved==True:\n",
    "                obj.setStatus(v,-1)\n",
    "                obj.solutionGraph[v]=childNodeList \n",
    "            if v!=obj.start: \n",
    "                aoStar(obj,obj.parent[v], True)\n",
    "            if backTracking==False:\n",
    "                for childNode in childNodeList:\n",
    "                    obj.setStatus(childNode,0)\n",
    "                    aoStar(obj,childNode, False)"
   ]
  },
  {
   "cell_type": "code",
   "execution_count": 26,
   "metadata": {},
   "outputs": [
    {
     "name": "stdout",
     "output_type": "stream",
     "text": [
      "HEURISTIC VALUES : {'A': 1, 'B': 6, 'C': 2, 'D': 12, 'E': 2, 'F': 1, 'G': 5, 'H': 7, 'I': 7, 'J': 1, 'T': 3}\n",
      "SOLUTION GRAPH : {}\n",
      "PROCESSING NODE : A\n",
      "-----------------------------------------------------------------------------------------\n",
      "HEURISTIC VALUES : {'A': 10, 'B': 6, 'C': 2, 'D': 12, 'E': 2, 'F': 1, 'G': 5, 'H': 7, 'I': 7, 'J': 1, 'T': 3}\n",
      "SOLUTION GRAPH : {}\n",
      "PROCESSING NODE : B\n",
      "-----------------------------------------------------------------------------------------\n",
      "HEURISTIC VALUES : {'A': 10, 'B': 6, 'C': 2, 'D': 12, 'E': 2, 'F': 1, 'G': 5, 'H': 7, 'I': 7, 'J': 1, 'T': 3}\n",
      "SOLUTION GRAPH : {}\n",
      "PROCESSING NODE : A\n",
      "-----------------------------------------------------------------------------------------\n",
      "HEURISTIC VALUES : {'A': 10, 'B': 6, 'C': 2, 'D': 12, 'E': 2, 'F': 1, 'G': 5, 'H': 7, 'I': 7, 'J': 1, 'T': 3}\n",
      "SOLUTION GRAPH : {}\n",
      "PROCESSING NODE : G\n",
      "-----------------------------------------------------------------------------------------\n",
      "HEURISTIC VALUES : {'A': 10, 'B': 6, 'C': 2, 'D': 12, 'E': 2, 'F': 1, 'G': 8, 'H': 7, 'I': 7, 'J': 1, 'T': 3}\n",
      "SOLUTION GRAPH : {}\n",
      "PROCESSING NODE : B\n",
      "-----------------------------------------------------------------------------------------\n",
      "HEURISTIC VALUES : {'A': 10, 'B': 8, 'C': 2, 'D': 12, 'E': 2, 'F': 1, 'G': 8, 'H': 7, 'I': 7, 'J': 1, 'T': 3}\n",
      "SOLUTION GRAPH : {}\n",
      "PROCESSING NODE : A\n",
      "-----------------------------------------------------------------------------------------\n",
      "HEURISTIC VALUES : {'A': 12, 'B': 8, 'C': 2, 'D': 12, 'E': 2, 'F': 1, 'G': 8, 'H': 7, 'I': 7, 'J': 1, 'T': 3}\n",
      "SOLUTION GRAPH : {}\n",
      "PROCESSING NODE : I\n",
      "-----------------------------------------------------------------------------------------\n",
      "HEURISTIC VALUES : {'A': 12, 'B': 8, 'C': 2, 'D': 12, 'E': 2, 'F': 1, 'G': 8, 'H': 7, 'I': 0, 'J': 1, 'T': 3}\n",
      "SOLUTION GRAPH : {'I': []}\n",
      "PROCESSING NODE : G\n",
      "-----------------------------------------------------------------------------------------\n",
      "HEURISTIC VALUES : {'A': 12, 'B': 8, 'C': 2, 'D': 12, 'E': 2, 'F': 1, 'G': 1, 'H': 7, 'I': 0, 'J': 1, 'T': 3}\n",
      "SOLUTION GRAPH : {'I': [], 'G': ['I']}\n",
      "PROCESSING NODE : B\n",
      "-----------------------------------------------------------------------------------------\n",
      "HEURISTIC VALUES : {'A': 12, 'B': 2, 'C': 2, 'D': 12, 'E': 2, 'F': 1, 'G': 1, 'H': 7, 'I': 0, 'J': 1, 'T': 3}\n",
      "SOLUTION GRAPH : {'I': [], 'G': ['I'], 'B': ['G']}\n",
      "PROCESSING NODE : A\n",
      "-----------------------------------------------------------------------------------------\n",
      "HEURISTIC VALUES : {'A': 6, 'B': 2, 'C': 2, 'D': 12, 'E': 2, 'F': 1, 'G': 1, 'H': 7, 'I': 0, 'J': 1, 'T': 3}\n",
      "SOLUTION GRAPH : {'I': [], 'G': ['I'], 'B': ['G']}\n",
      "PROCESSING NODE : C\n",
      "-----------------------------------------------------------------------------------------\n",
      "HEURISTIC VALUES : {'A': 6, 'B': 2, 'C': 2, 'D': 12, 'E': 2, 'F': 1, 'G': 1, 'H': 7, 'I': 0, 'J': 1, 'T': 3}\n",
      "SOLUTION GRAPH : {'I': [], 'G': ['I'], 'B': ['G']}\n",
      "PROCESSING NODE : A\n",
      "-----------------------------------------------------------------------------------------\n",
      "HEURISTIC VALUES : {'A': 6, 'B': 2, 'C': 2, 'D': 12, 'E': 2, 'F': 1, 'G': 1, 'H': 7, 'I': 0, 'J': 1, 'T': 3}\n",
      "SOLUTION GRAPH : {'I': [], 'G': ['I'], 'B': ['G']}\n",
      "PROCESSING NODE : J\n",
      "-----------------------------------------------------------------------------------------\n",
      "HEURISTIC VALUES : {'A': 6, 'B': 2, 'C': 2, 'D': 12, 'E': 2, 'F': 1, 'G': 1, 'H': 7, 'I': 0, 'J': 0, 'T': 3}\n",
      "SOLUTION GRAPH : {'I': [], 'G': ['I'], 'B': ['G'], 'J': []}\n",
      "PROCESSING NODE : C\n",
      "-----------------------------------------------------------------------------------------\n",
      "HEURISTIC VALUES : {'A': 6, 'B': 2, 'C': 1, 'D': 12, 'E': 2, 'F': 1, 'G': 1, 'H': 7, 'I': 0, 'J': 0, 'T': 3}\n",
      "SOLUTION GRAPH : {'I': [], 'G': ['I'], 'B': ['G'], 'J': [], 'C': ['J']}\n",
      "PROCESSING NODE : A\n",
      "-----------------------------------------------------------------------------------------\n",
      "{'I': [], 'G': ['I'], 'B': ['G'], 'J': [], 'C': ['J'], 'A': ['B', 'C']}\n"
     ]
    }
   ],
   "source": [
    "h1 = {'A': 1, 'B': 6, 'C': 2, 'D': 12, 'E': 2, 'F': 1, 'G': 5, 'H': 7, 'I': 7, 'J':1, 'T': 3}\n",
    "graph1 = {\n",
    "    'A': [[('B', 1), ('C', 1)], [('D', 1)]],\n",
    "    'B': [[('G', 1)], [('H', 1)]],\n",
    "    'C': [[('J', 1)]],\n",
    "    'D': [[('E', 1), ('F', 1)]],\n",
    "    'G': [[('I', 1)]]\n",
    "}\n",
    "G1= program(graph1, h1, 'A')\n",
    "aoStar(G1,'A',False)\n",
    "print(G1.solutionGraph)"
   ]
  }
 ],
 "metadata": {
  "kernelspec": {
   "display_name": "env",
   "language": "python",
   "name": "python3"
  },
  "language_info": {
   "codemirror_mode": {
    "name": "ipython",
    "version": 3
   },
   "file_extension": ".py",
   "mimetype": "text/x-python",
   "name": "python",
   "nbconvert_exporter": "python",
   "pygments_lexer": "ipython3",
   "version": "3.9.6"
  },
  "orig_nbformat": 4,
  "vscode": {
   "interpreter": {
    "hash": "550ed2dbc59292519cf5eb324a1382c4b137e9eca0def94d6a3feceb6ff9fd66"
   }
  }
 },
 "nbformat": 4,
 "nbformat_minor": 2
}
