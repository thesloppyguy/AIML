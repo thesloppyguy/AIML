{
 "cells": [
  {
   "cell_type": "code",
   "execution_count": 7,
   "metadata": {},
   "outputs": [
    {
     "name": "stdout",
     "output_type": "stream",
     "text": [
      "The first 5 Values of data is :\n",
      "     Outlook Temperature Humidity   Windy PlayTennis\n",
      "0     Sunny         Hot     High    Weak         No\n",
      "1     Sunny         Hot     High  Strong         No\n",
      "2  Overcast         Hot     High    Weak        Yes\n",
      "3      Rain        Mild     High    Weak        Yes\n",
      "4      Rain        Cool   Normal    Weak        Yes\n",
      "\n",
      "The First 5 values of the train data is\n",
      "     Outlook Temperature Humidity   Windy\n",
      "0     Sunny         Hot     High    Weak\n",
      "1     Sunny         Hot     High  Strong\n",
      "2  Overcast         Hot     High    Weak\n",
      "3      Rain        Mild     High    Weak\n",
      "4      Rain        Cool   Normal    Weak\n",
      "\n",
      "The First 5 values of train output is\n",
      " 0     No\n",
      "1     No\n",
      "2    Yes\n",
      "3    Yes\n",
      "4    Yes\n",
      "Name: PlayTennis, dtype: object\n",
      "Accuracy is: 0.6666666666666666\n"
     ]
    },
    {
     "name": "stderr",
     "output_type": "stream",
     "text": [
      "/var/folders/l2/1n6v2w492mn1hwkjrzjrpzmw0000gn/T/ipykernel_5734/822720514.py:19: SettingWithCopyWarning: \n",
      "A value is trying to be set on a copy of a slice from a DataFrame.\n",
      "Try using .loc[row_indexer,col_indexer] = value instead\n",
      "\n",
      "See the caveats in the documentation: https://pandas.pydata.org/pandas-docs/stable/user_guide/indexing.html#returning-a-view-versus-a-copy\n",
      "  X.Outlook = le_outlook.fit_transform(X.Outlook)\n",
      "/var/folders/l2/1n6v2w492mn1hwkjrzjrpzmw0000gn/T/ipykernel_5734/822720514.py:22: SettingWithCopyWarning: \n",
      "A value is trying to be set on a copy of a slice from a DataFrame.\n",
      "Try using .loc[row_indexer,col_indexer] = value instead\n",
      "\n",
      "See the caveats in the documentation: https://pandas.pydata.org/pandas-docs/stable/user_guide/indexing.html#returning-a-view-versus-a-copy\n",
      "  X.Temperature = le_Temperature.fit_transform(X.Temperature)\n",
      "/var/folders/l2/1n6v2w492mn1hwkjrzjrpzmw0000gn/T/ipykernel_5734/822720514.py:25: SettingWithCopyWarning: \n",
      "A value is trying to be set on a copy of a slice from a DataFrame.\n",
      "Try using .loc[row_indexer,col_indexer] = value instead\n",
      "\n",
      "See the caveats in the documentation: https://pandas.pydata.org/pandas-docs/stable/user_guide/indexing.html#returning-a-view-versus-a-copy\n",
      "  X.Humidity = le_Humidity.fit_transform(X.Humidity)\n",
      "/var/folders/l2/1n6v2w492mn1hwkjrzjrpzmw0000gn/T/ipykernel_5734/822720514.py:28: SettingWithCopyWarning: \n",
      "A value is trying to be set on a copy of a slice from a DataFrame.\n",
      "Try using .loc[row_indexer,col_indexer] = value instead\n",
      "\n",
      "See the caveats in the documentation: https://pandas.pydata.org/pandas-docs/stable/user_guide/indexing.html#returning-a-view-versus-a-copy\n",
      "  X.Windy = le_Windy.fit_transform(X.Windy)\n"
     ]
    }
   ],
   "source": [
    "import pandas as pd\n",
    "from sklearn import tree\n",
    "from sklearn.preprocessing import LabelEncoder\n",
    "from sklearn.naive_bayes import GaussianNB\n",
    "from sklearn.model_selection import train_test_split\n",
    "from sklearn.metrics import accuracy_score\n",
    "\n",
    "\n",
    "data = pd.read_csv('/Users/sahil/Documents/PROGRAMS/Python/AIML/Data/tennisdata.csv')\n",
    "print(\"The first 5 Values of data is :\\n\", data.head())\n",
    "\n",
    "X = data.iloc[:, :-1]\n",
    "print(\"\\nThe First 5 values of the train data is\\n\", X.head())\n",
    "\n",
    "y = data.iloc[:, -1]\n",
    "print(\"\\nThe First 5 values of train output is\\n\", y.head())\n",
    "\n",
    "le_outlook = LabelEncoder()\n",
    "X.Outlook = le_outlook.fit_transform(X.Outlook)\n",
    "\n",
    "le_Temperature = LabelEncoder()\n",
    "X.Temperature = le_Temperature.fit_transform(X.Temperature)\n",
    "\n",
    "le_Humidity = LabelEncoder()\n",
    "X.Humidity = le_Humidity.fit_transform(X.Humidity)\n",
    "\n",
    "le_Windy = LabelEncoder()\n",
    "X.Windy = le_Windy.fit_transform(X.Windy)\n",
    "\n",
    "le_PlayTennis = LabelEncoder()\n",
    "y = le_PlayTennis.fit_transform(y)\n",
    "\n",
    "X_train, X_test, y_train, y_test = train_test_split(X,y, test_size = 0.20,random_state=1)\n",
    "\n",
    "classifier = GaussianNB()\n",
    "classifier.fit(X_train, y_train)\n",
    "\n",
    "print(\"Accuracy is:\", accuracy_score(classifier.predict(X_test), y_test))"
   ]
  },
  {
   "cell_type": "code",
   "execution_count": null,
   "metadata": {},
   "outputs": [],
   "source": []
  }
 ],
 "metadata": {
  "kernelspec": {
   "display_name": "env",
   "language": "python",
   "name": "python3"
  },
  "language_info": {
   "codemirror_mode": {
    "name": "ipython",
    "version": 3
   },
   "file_extension": ".py",
   "mimetype": "text/x-python",
   "name": "python",
   "nbconvert_exporter": "python",
   "pygments_lexer": "ipython3",
   "version": "3.9.6"
  },
  "orig_nbformat": 4,
  "vscode": {
   "interpreter": {
    "hash": "550ed2dbc59292519cf5eb324a1382c4b137e9eca0def94d6a3feceb6ff9fd66"
   }
  }
 },
 "nbformat": 4,
 "nbformat_minor": 2
}
