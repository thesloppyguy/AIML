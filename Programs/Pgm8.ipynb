{
 "cells": [
  {
   "cell_type": "code",
   "execution_count": 4,
   "metadata": {},
   "outputs": [
    {
     "name": "stdout",
     "output_type": "stream",
     "text": [
      "['setosa' 'versicolor' 'virginica']\n",
      " Sample: [5.8 4.  1.2 0.2]  Actual-label: 0  Predicted-label: 0\n",
      " Sample: [5.1 2.5 3.  1.1]  Actual-label: 1  Predicted-label: 1\n",
      " Sample: [6.6 3.  4.4 1.4]  Actual-label: 1  Predicted-label: 1\n",
      " Sample: [5.4 3.9 1.3 0.4]  Actual-label: 0  Predicted-label: 0\n",
      " Sample: [7.9 3.8 6.4 2. ]  Actual-label: 2  Predicted-label: 2\n",
      " Sample: [6.3 3.3 4.7 1.6]  Actual-label: 1  Predicted-label: 1\n",
      " Sample: [6.9 3.1 5.1 2.3]  Actual-label: 2  Predicted-label: 2\n",
      " Sample: [5.1 3.8 1.9 0.4]  Actual-label: 0  Predicted-label: 0\n",
      " Sample: [4.7 3.2 1.6 0.2]  Actual-label: 0  Predicted-label: 0\n",
      " Sample: [6.9 3.2 5.7 2.3]  Actual-label: 2  Predicted-label: 2\n",
      " Sample: [5.6 2.7 4.2 1.3]  Actual-label: 1  Predicted-label: 1\n",
      " Sample: [5.4 3.9 1.7 0.4]  Actual-label: 0  Predicted-label: 0\n",
      " Sample: [7.1 3.  5.9 2.1]  Actual-label: 2  Predicted-label: 2\n",
      " Sample: [6.4 3.2 4.5 1.5]  Actual-label: 1  Predicted-label: 1\n",
      " Sample: [6.  2.9 4.5 1.5]  Actual-label: 1  Predicted-label: 1\n",
      "Classification Accuracy : 1.0\n"
     ]
    }
   ],
   "source": [
    "from sklearn.model_selection import train_test_split \n",
    "from sklearn.neighbors import KNeighborsClassifier \n",
    "from sklearn import datasets\n",
    "\n",
    "iris=datasets.load_iris() \n",
    "x_train, x_test, y_train, y_test = train_test_split(iris.data,iris.target,test_size=0.1,random_state=1)\n",
    "classifier = KNeighborsClassifier(n_neighbors=2)\n",
    "classifier.fit(x_train, y_train)\n",
    "y_pred=classifier.predict(x_test)\n",
    "\n",
    "print(iris.target_names)\n",
    "for r in range(0,len(x_test)):\n",
    "    print(\" Sample:\", str(x_test[r]), \" Actual-label:\", str(y_test[r]),\" Predicted-label:\", str(y_pred[r]))\n",
    "\n",
    "print(\"Classification Accuracy :\" , classifier.score(x_test,y_test))"
   ]
  }
 ],
 "metadata": {
  "kernelspec": {
   "display_name": "env",
   "language": "python",
   "name": "python3"
  },
  "language_info": {
   "codemirror_mode": {
    "name": "ipython",
    "version": 3
   },
   "file_extension": ".py",
   "mimetype": "text/x-python",
   "name": "python",
   "nbconvert_exporter": "python",
   "pygments_lexer": "ipython3",
   "version": "3.9.6 (default, Sep 26 2022, 11:37:49) \n[Clang 14.0.0 (clang-1400.0.29.202)]"
  },
  "orig_nbformat": 4,
  "vscode": {
   "interpreter": {
    "hash": "8a5edab282632443219e051e4ade2d1d5bbc671c781051bf1437897cbdfea0f1"
   }
  }
 },
 "nbformat": 4,
 "nbformat_minor": 2
}
