{
 "cells": [
  {
   "cell_type": "code",
   "execution_count": 1,
   "metadata": {},
   "outputs": [],
   "source": [
    "from GeneralPack.CE import program\n",
    "import csv"
   ]
  },
  {
   "cell_type": "code",
   "execution_count": 14,
   "metadata": {},
   "outputs": [],
   "source": [
    "def candidate_elimination(obj,examples):\n",
    "    domains = obj.get_domains(examples)[:-1]\n",
    "    \n",
    "    G = set([obj.g_0(len(domains))])\n",
    "    S = set([obj.s_0(len(domains))])\n",
    "    i=0\n",
    "    print(\"\\n G[{0}]:\".format(i),G)\n",
    "    print(\"\\n S[{0}]:\".format(i),S)\n",
    "    \n",
    "    for xcx in examples:\n",
    "        i=i+1\n",
    "        x, cx = xcx[:-1], xcx[-1]\n",
    "        if cx=='Yes':\n",
    "            G = {g for g in G if obj.fulfills(x, g)}\n",
    "            S = obj.generalize_S(x, G, S)\n",
    "        else:\n",
    "            S = {s for s in S if not obj.fulfills(x, s)}\n",
    "            G = obj.specialize_G(x, domains, G, S)\n",
    "        print(\"\\n G[{0}]:\".format(i),G)\n",
    "        print(\"\\n S[{0}]:\".format(i),S)\n",
    "    return"
   ]
  },
  {
   "cell_type": "code",
   "execution_count": 15,
   "metadata": {},
   "outputs": [
    {
     "name": "stdout",
     "output_type": "stream",
     "text": [
      "\n",
      " G[0]: {('?', '?', '?', '?', '?', '?')}\n",
      "\n",
      " S[0]: {('0', '0', '0', '0', '0', '0')}\n",
      "\n",
      " G[1]: {('?', '?', '?', '?', '?', 'Same'), ('?', 'Warm', '?', '?', '?', '?'), ('?', '?', 'Normal', '?', '?', '?'), ('?', '?', '?', '?', 'Cool', '?'), ('?', '?', '?', 'Strong', '?', '?'), ('?', '?', '?', '?', '?', 'Change'), ('?', '?', '?', '?', 'Warm', '?'), ('Rainy', '?', '?', '?', '?', '?'), ('Sunny', '?', '?', '?', '?', '?'), ('?', '?', 'High', '?', '?', '?'), ('?', 'Cold', '?', '?', '?', '?')}\n",
      "\n",
      " S[1]: {('0', '0', '0', '0', '0', '0')}\n",
      "\n",
      " G[2]: {('?', '?', '?', '?', '?', 'Same'), ('?', 'Warm', '?', '?', '?', '?'), ('?', '?', 'Normal', '?', '?', '?'), ('?', '?', '?', '?', 'Warm', '?'), ('?', '?', '?', 'Strong', '?', '?'), ('Sunny', '?', '?', '?', '?', '?')}\n",
      "\n",
      " S[2]: {('Sunny', 'Warm', 'Normal', 'Strong', 'Warm', 'Same')}\n",
      "\n",
      " G[3]: {('?', '?', '?', '?', '?', 'Same'), ('?', 'Warm', '?', '?', '?', '?'), ('?', '?', '?', '?', 'Warm', '?'), ('?', '?', '?', 'Strong', '?', '?'), ('Sunny', '?', '?', '?', '?', '?')}\n",
      "\n",
      " S[3]: {('Sunny', 'Warm', '?', 'Strong', 'Warm', 'Same')}\n",
      "\n",
      " G[4]: {('?', '?', '?', '?', '?', 'Same'), ('?', 'Warm', '?', '?', '?', '?'), ('Sunny', '?', '?', '?', '?', '?')}\n",
      "\n",
      " S[4]: {('Sunny', 'Warm', '?', 'Strong', 'Warm', 'Same')}\n",
      "\n",
      " G[5]: {('Sunny', '?', '?', '?', '?', '?'), ('?', 'Warm', '?', '?', '?', '?')}\n",
      "\n",
      " S[5]: {('Sunny', 'Warm', '?', 'Strong', '?', '?')}\n"
     ]
    }
   ],
   "source": [
    "examples=[]\n",
    "with open(r'/Users/sahil/Documents/PROGRAMS/Python/AIML/Data/examples.csv') as csvFile:\n",
    "    examples = [tuple(line) for line in csv.reader(csvFile)]\n",
    "obj=program()\n",
    "obj.get_domains(examples)\n",
    "candidate_elimination(obj,examples)"
   ]
  },
  {
   "cell_type": "code",
   "execution_count": null,
   "metadata": {},
   "outputs": [],
   "source": []
  }
 ],
 "metadata": {
  "kernelspec": {
   "display_name": "env",
   "language": "python",
   "name": "python3"
  },
  "language_info": {
   "codemirror_mode": {
    "name": "ipython",
    "version": 3
   },
   "file_extension": ".py",
   "mimetype": "text/x-python",
   "name": "python",
   "nbconvert_exporter": "python",
   "pygments_lexer": "ipython3",
   "version": "3.9.6 (default, Sep 26 2022, 11:37:49) \n[Clang 14.0.0 (clang-1400.0.29.202)]"
  },
  "orig_nbformat": 4,
  "vscode": {
   "interpreter": {
    "hash": "8a5edab282632443219e051e4ade2d1d5bbc671c781051bf1437897cbdfea0f1"
   }
  }
 },
 "nbformat": 4,
 "nbformat_minor": 2
}
